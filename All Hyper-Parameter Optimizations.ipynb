{
 "cells": [
  {
   "cell_type": "markdown",
   "metadata": {},
   "source": [
    "### All Techniques Of Hyper Parameter Optimization\n",
    "\n",
    "- GridSearchCV\n",
    "- RandomizedSearchCV\n",
    "- Bayesian Optimization -Automate Hyperparameter Tuning (Hyperopt)\n",
    "- Sequential Model Based Optimization(Tuning a scikit-learn estimator with skopt)\n",
    "- Optuna- Automate Hyperparameter Tuning\n",
    "- Genetic Algorithms (TPOT Classifier)"
   ]
  },
  {
   "cell_type": "code",
   "execution_count": 1,
   "metadata": {},
   "outputs": [],
   "source": [
    "import pandas as pd\n",
    "import numpy as np\n",
    "import matplotlib.pyplot as plt\n",
    "import seaborn as sns\n",
    "import plotly.express as px\n",
    "import warnings\n",
    "warnings.filterwarnings(\"ignore\")\n",
    "pd.set_option(\"display.max_columns\", None)\n",
    "pd.set_option(\"display.max_rows\", None)\n",
    "%matplotlib inline"
   ]
  },
  {
   "cell_type": "code",
   "execution_count": 2,
   "metadata": {},
   "outputs": [
    {
     "data": {
      "text/html": [
       "<div>\n",
       "<style scoped>\n",
       "    .dataframe tbody tr th:only-of-type {\n",
       "        vertical-align: middle;\n",
       "    }\n",
       "\n",
       "    .dataframe tbody tr th {\n",
       "        vertical-align: top;\n",
       "    }\n",
       "\n",
       "    .dataframe thead th {\n",
       "        text-align: right;\n",
       "    }\n",
       "</style>\n",
       "<table border=\"1\" class=\"dataframe\">\n",
       "  <thead>\n",
       "    <tr style=\"text-align: right;\">\n",
       "      <th></th>\n",
       "      <th>Pregnancies</th>\n",
       "      <th>Glucose</th>\n",
       "      <th>BloodPressure</th>\n",
       "      <th>SkinThickness</th>\n",
       "      <th>Insulin</th>\n",
       "      <th>BMI</th>\n",
       "      <th>DiabetesPedigreeFunction</th>\n",
       "      <th>Age</th>\n",
       "      <th>Outcome</th>\n",
       "    </tr>\n",
       "  </thead>\n",
       "  <tbody>\n",
       "    <tr>\n",
       "      <th>0</th>\n",
       "      <td>6</td>\n",
       "      <td>148</td>\n",
       "      <td>72</td>\n",
       "      <td>35</td>\n",
       "      <td>0</td>\n",
       "      <td>33.6</td>\n",
       "      <td>0.627</td>\n",
       "      <td>50</td>\n",
       "      <td>1</td>\n",
       "    </tr>\n",
       "    <tr>\n",
       "      <th>1</th>\n",
       "      <td>1</td>\n",
       "      <td>85</td>\n",
       "      <td>66</td>\n",
       "      <td>29</td>\n",
       "      <td>0</td>\n",
       "      <td>26.6</td>\n",
       "      <td>0.351</td>\n",
       "      <td>31</td>\n",
       "      <td>0</td>\n",
       "    </tr>\n",
       "    <tr>\n",
       "      <th>2</th>\n",
       "      <td>8</td>\n",
       "      <td>183</td>\n",
       "      <td>64</td>\n",
       "      <td>0</td>\n",
       "      <td>0</td>\n",
       "      <td>23.3</td>\n",
       "      <td>0.672</td>\n",
       "      <td>32</td>\n",
       "      <td>1</td>\n",
       "    </tr>\n",
       "    <tr>\n",
       "      <th>3</th>\n",
       "      <td>1</td>\n",
       "      <td>89</td>\n",
       "      <td>66</td>\n",
       "      <td>23</td>\n",
       "      <td>94</td>\n",
       "      <td>28.1</td>\n",
       "      <td>0.167</td>\n",
       "      <td>21</td>\n",
       "      <td>0</td>\n",
       "    </tr>\n",
       "    <tr>\n",
       "      <th>4</th>\n",
       "      <td>0</td>\n",
       "      <td>137</td>\n",
       "      <td>40</td>\n",
       "      <td>35</td>\n",
       "      <td>168</td>\n",
       "      <td>43.1</td>\n",
       "      <td>2.288</td>\n",
       "      <td>33</td>\n",
       "      <td>1</td>\n",
       "    </tr>\n",
       "  </tbody>\n",
       "</table>\n",
       "</div>"
      ],
      "text/plain": [
       "   Pregnancies  Glucose  BloodPressure  SkinThickness  Insulin   BMI  \\\n",
       "0            6      148             72             35        0  33.6   \n",
       "1            1       85             66             29        0  26.6   \n",
       "2            8      183             64              0        0  23.3   \n",
       "3            1       89             66             23       94  28.1   \n",
       "4            0      137             40             35      168  43.1   \n",
       "\n",
       "   DiabetesPedigreeFunction  Age  Outcome  \n",
       "0                     0.627   50        1  \n",
       "1                     0.351   31        0  \n",
       "2                     0.672   32        1  \n",
       "3                     0.167   21        0  \n",
       "4                     2.288   33        1  "
      ]
     },
     "execution_count": 2,
     "metadata": {},
     "output_type": "execute_result"
    }
   ],
   "source": [
    "df = pd.read_csv(\"Datasets/diabetes.csv\")\n",
    "df.head()"
   ]
  },
  {
   "cell_type": "code",
   "execution_count": 8,
   "metadata": {},
   "outputs": [
    {
     "data": {
      "text/plain": [
       "(768, 9)"
      ]
     },
     "execution_count": 8,
     "metadata": {},
     "output_type": "execute_result"
    }
   ],
   "source": [
    "df.shape"
   ]
  },
  {
   "cell_type": "code",
   "execution_count": 3,
   "metadata": {},
   "outputs": [
    {
     "data": {
      "text/plain": [
       "<matplotlib.axes._subplots.AxesSubplot at 0x1bb37399e48>"
      ]
     },
     "execution_count": 3,
     "metadata": {},
     "output_type": "execute_result"
    },
    {
     "data": {
      "image/png": "[encoded data removed]",
      "text/plain": [
       "<Figure size 432x288 with 1 Axes>"
      ]
     },
     "metadata": {
      "needs_background": "light"
     },
     "output_type": "display_data"
    }
   ],
   "source": [
    "sns.distplot(df.Glucose)"
   ]
  },
  {
   "cell_type": "code",
   "execution_count": 4,
   "metadata": {},
   "outputs": [
    {
     "data": {
      "text/html": [
       "<div>\n",
       "<style scoped>\n",
       "    .dataframe tbody tr th:only-of-type {\n",
       "        vertical-align: middle;\n",
       "    }\n",
       "\n",
       "    .dataframe tbody tr th {\n",
       "        vertical-align: top;\n",
       "    }\n",
       "\n",
       "    .dataframe thead th {\n",
       "        text-align: right;\n",
       "    }\n",
       "</style>\n",
       "<table border=\"1\" class=\"dataframe\">\n",
       "  <thead>\n",
       "    <tr style=\"text-align: right;\">\n",
       "      <th></th>\n",
       "      <th>Pregnancies</th>\n",
       "      <th>Glucose</th>\n",
       "      <th>BloodPressure</th>\n",
       "      <th>SkinThickness</th>\n",
       "      <th>Insulin</th>\n",
       "      <th>BMI</th>\n",
       "      <th>DiabetesPedigreeFunction</th>\n",
       "      <th>Age</th>\n",
       "      <th>Outcome</th>\n",
       "    </tr>\n",
       "  </thead>\n",
       "  <tbody>\n",
       "    <tr>\n",
       "      <th>0</th>\n",
       "      <td>6</td>\n",
       "      <td>148.0</td>\n",
       "      <td>72</td>\n",
       "      <td>35</td>\n",
       "      <td>0</td>\n",
       "      <td>33.6</td>\n",
       "      <td>0.627</td>\n",
       "      <td>50</td>\n",
       "      <td>1</td>\n",
       "    </tr>\n",
       "    <tr>\n",
       "      <th>1</th>\n",
       "      <td>1</td>\n",
       "      <td>85.0</td>\n",
       "      <td>66</td>\n",
       "      <td>29</td>\n",
       "      <td>0</td>\n",
       "      <td>26.6</td>\n",
       "      <td>0.351</td>\n",
       "      <td>31</td>\n",
       "      <td>0</td>\n",
       "    </tr>\n",
       "    <tr>\n",
       "      <th>2</th>\n",
       "      <td>8</td>\n",
       "      <td>183.0</td>\n",
       "      <td>64</td>\n",
       "      <td>0</td>\n",
       "      <td>0</td>\n",
       "      <td>23.3</td>\n",
       "      <td>0.672</td>\n",
       "      <td>32</td>\n",
       "      <td>1</td>\n",
       "    </tr>\n",
       "    <tr>\n",
       "      <th>3</th>\n",
       "      <td>1</td>\n",
       "      <td>89.0</td>\n",
       "      <td>66</td>\n",
       "      <td>23</td>\n",
       "      <td>94</td>\n",
       "      <td>28.1</td>\n",
       "      <td>0.167</td>\n",
       "      <td>21</td>\n",
       "      <td>0</td>\n",
       "    </tr>\n",
       "    <tr>\n",
       "      <th>4</th>\n",
       "      <td>0</td>\n",
       "      <td>137.0</td>\n",
       "      <td>40</td>\n",
       "      <td>35</td>\n",
       "      <td>168</td>\n",
       "      <td>43.1</td>\n",
       "      <td>2.288</td>\n",
       "      <td>33</td>\n",
       "      <td>1</td>\n",
       "    </tr>\n",
       "  </tbody>\n",
       "</table>\n",
       "</div>"
      ],
      "text/plain": [
       "   Pregnancies  Glucose  BloodPressure  SkinThickness  Insulin   BMI  \\\n",
       "0            6    148.0             72             35        0  33.6   \n",
       "1            1     85.0             66             29        0  26.6   \n",
       "2            8    183.0             64              0        0  23.3   \n",
       "3            1     89.0             66             23       94  28.1   \n",
       "4            0    137.0             40             35      168  43.1   \n",
       "\n",
       "   DiabetesPedigreeFunction  Age  Outcome  \n",
       "0                     0.627   50        1  \n",
       "1                     0.351   31        0  \n",
       "2                     0.672   32        1  \n",
       "3                     0.167   21        0  \n",
       "4                     2.288   33        1  "
      ]
     },
     "execution_count": 4,
     "metadata": {},
     "output_type": "execute_result"
    }
   ],
   "source": [
    "import numpy as np\n",
    "df['Glucose']=np.where(df['Glucose']==0, df['Glucose'].median(), df['Glucose'])\n",
    "df.head()"
   ]
  },
  {
   "cell_type": "code",
   "execution_count": 5,
   "metadata": {},
   "outputs": [
    {
     "data": {
      "text/plain": [
       "<matplotlib.axes._subplots.AxesSubplot at 0x1bb39490bc8>"
      ]
     },
     "execution_count": 5,
     "metadata": {},
     "output_type": "execute_result"
    },
    {
     "data": {
      "image/png": "[encoded data removed]",
      "text/plain": [
       "<Figure size 432x288 with 1 Axes>"
      ]
     },
     "metadata": {
      "needs_background": "light"
     },
     "output_type": "display_data"
    }
   ],
   "source": [
    "sns.distplot(df.Glucose)"
   ]
  },
  {
   "cell_type": "code",
   "execution_count": 6,
   "metadata": {},
   "outputs": [
    {
     "data": {
      "text/html": [
       "<div>\n",
       "<style scoped>\n",
       "    .dataframe tbody tr th:only-of-type {\n",
       "        vertical-align: middle;\n",
       "    }\n",
       "\n",
       "    .dataframe tbody tr th {\n",
       "        vertical-align: top;\n",
       "    }\n",
       "\n",
       "    .dataframe thead th {\n",
       "        text-align: right;\n",
       "    }\n",
       "</style>\n",
       "<table border=\"1\" class=\"dataframe\">\n",
       "  <thead>\n",
       "    <tr style=\"text-align: right;\">\n",
       "      <th></th>\n",
       "      <th>Pregnancies</th>\n",
       "      <th>Glucose</th>\n",
       "      <th>BloodPressure</th>\n",
       "      <th>SkinThickness</th>\n",
       "      <th>Insulin</th>\n",
       "      <th>BMI</th>\n",
       "      <th>DiabetesPedigreeFunction</th>\n",
       "      <th>Age</th>\n",
       "    </tr>\n",
       "  </thead>\n",
       "  <tbody>\n",
       "    <tr>\n",
       "      <th>0</th>\n",
       "      <td>6</td>\n",
       "      <td>148.0</td>\n",
       "      <td>72</td>\n",
       "      <td>35</td>\n",
       "      <td>0</td>\n",
       "      <td>33.6</td>\n",
       "      <td>0.627</td>\n",
       "      <td>50</td>\n",
       "    </tr>\n",
       "    <tr>\n",
       "      <th>1</th>\n",
       "      <td>1</td>\n",
       "      <td>85.0</td>\n",
       "      <td>66</td>\n",
       "      <td>29</td>\n",
       "      <td>0</td>\n",
       "      <td>26.6</td>\n",
       "      <td>0.351</td>\n",
       "      <td>31</td>\n",
       "    </tr>\n",
       "    <tr>\n",
       "      <th>2</th>\n",
       "      <td>8</td>\n",
       "      <td>183.0</td>\n",
       "      <td>64</td>\n",
       "      <td>0</td>\n",
       "      <td>0</td>\n",
       "      <td>23.3</td>\n",
       "      <td>0.672</td>\n",
       "      <td>32</td>\n",
       "    </tr>\n",
       "    <tr>\n",
       "      <th>3</th>\n",
       "      <td>1</td>\n",
       "      <td>89.0</td>\n",
       "      <td>66</td>\n",
       "      <td>23</td>\n",
       "      <td>94</td>\n",
       "      <td>28.1</td>\n",
       "      <td>0.167</td>\n",
       "      <td>21</td>\n",
       "    </tr>\n",
       "    <tr>\n",
       "      <th>4</th>\n",
       "      <td>0</td>\n",
       "      <td>137.0</td>\n",
       "      <td>40</td>\n",
       "      <td>35</td>\n",
       "      <td>168</td>\n",
       "      <td>43.1</td>\n",
       "      <td>2.288</td>\n",
       "      <td>33</td>\n",
       "    </tr>\n",
       "  </tbody>\n",
       "</table>\n",
       "</div>"
      ],
      "text/plain": [
       "   Pregnancies  Glucose  BloodPressure  SkinThickness  Insulin   BMI  \\\n",
       "0            6    148.0             72             35        0  33.6   \n",
       "1            1     85.0             66             29        0  26.6   \n",
       "2            8    183.0             64              0        0  23.3   \n",
       "3            1     89.0             66             23       94  28.1   \n",
       "4            0    137.0             40             35      168  43.1   \n",
       "\n",
       "   DiabetesPedigreeFunction  Age  \n",
       "0                     0.627   50  \n",
       "1                     0.351   31  \n",
       "2                     0.672   32  \n",
       "3                     0.167   21  \n",
       "4                     2.288   33  "
      ]
     },
     "execution_count": 6,
     "metadata": {},
     "output_type": "execute_result"
    }
   ],
   "source": [
    "#### Independent And Dependent features\n",
    "X=df.drop('Outcome',axis=1)\n",
    "y=df['Outcome']\n",
    "X.head()"
   ]
  },
  {
   "cell_type": "code",
   "execution_count": 7,
   "metadata": {},
   "outputs": [
    {
     "data": {
      "text/plain": [
       "0    1\n",
       "1    0\n",
       "2    1\n",
       "3    0\n",
       "4    1\n",
       "Name: Outcome, dtype: int64"
      ]
     },
     "execution_count": 7,
     "metadata": {},
     "output_type": "execute_result"
    }
   ],
   "source": [
    "y.head()"
   ]
  },
  {
   "cell_type": "code",
   "execution_count": 9,
   "metadata": {},
   "outputs": [
    {
     "data": {
      "text/html": [
       "<div>\n",
       "<style scoped>\n",
       "    .dataframe tbody tr th:only-of-type {\n",
       "        vertical-align: middle;\n",
       "    }\n",
       "\n",
       "    .dataframe tbody tr th {\n",
       "        vertical-align: top;\n",
       "    }\n",
       "\n",
       "    .dataframe thead th {\n",
       "        text-align: right;\n",
       "    }\n",
       "</style>\n",
       "<table border=\"1\" class=\"dataframe\">\n",
       "  <thead>\n",
       "    <tr style=\"text-align: right;\">\n",
       "      <th></th>\n",
       "      <th>Pregnancies</th>\n",
       "      <th>Glucose</th>\n",
       "      <th>BloodPressure</th>\n",
       "      <th>SkinThickness</th>\n",
       "      <th>Insulin</th>\n",
       "      <th>BMI</th>\n",
       "      <th>DiabetesPedigreeFunction</th>\n",
       "      <th>Age</th>\n",
       "    </tr>\n",
       "  </thead>\n",
       "  <tbody>\n",
       "    <tr>\n",
       "      <th>763</th>\n",
       "      <td>10</td>\n",
       "      <td>101.0</td>\n",
       "      <td>76</td>\n",
       "      <td>48</td>\n",
       "      <td>180</td>\n",
       "      <td>32.9</td>\n",
       "      <td>0.171</td>\n",
       "      <td>63</td>\n",
       "    </tr>\n",
       "    <tr>\n",
       "      <th>764</th>\n",
       "      <td>2</td>\n",
       "      <td>122.0</td>\n",
       "      <td>70</td>\n",
       "      <td>27</td>\n",
       "      <td>0</td>\n",
       "      <td>36.8</td>\n",
       "      <td>0.340</td>\n",
       "      <td>27</td>\n",
       "    </tr>\n",
       "    <tr>\n",
       "      <th>765</th>\n",
       "      <td>5</td>\n",
       "      <td>121.0</td>\n",
       "      <td>72</td>\n",
       "      <td>23</td>\n",
       "      <td>112</td>\n",
       "      <td>26.2</td>\n",
       "      <td>0.245</td>\n",
       "      <td>30</td>\n",
       "    </tr>\n",
       "    <tr>\n",
       "      <th>766</th>\n",
       "      <td>1</td>\n",
       "      <td>126.0</td>\n",
       "      <td>60</td>\n",
       "      <td>0</td>\n",
       "      <td>0</td>\n",
       "      <td>30.1</td>\n",
       "      <td>0.349</td>\n",
       "      <td>47</td>\n",
       "    </tr>\n",
       "    <tr>\n",
       "      <th>767</th>\n",
       "      <td>1</td>\n",
       "      <td>93.0</td>\n",
       "      <td>70</td>\n",
       "      <td>31</td>\n",
       "      <td>0</td>\n",
       "      <td>30.4</td>\n",
       "      <td>0.315</td>\n",
       "      <td>23</td>\n",
       "    </tr>\n",
       "  </tbody>\n",
       "</table>\n",
       "</div>"
      ],
      "text/plain": [
       "     Pregnancies  Glucose  BloodPressure  SkinThickness  Insulin   BMI  \\\n",
       "763           10    101.0             76             48      180  32.9   \n",
       "764            2    122.0             70             27        0  36.8   \n",
       "765            5    121.0             72             23      112  26.2   \n",
       "766            1    126.0             60              0        0  30.1   \n",
       "767            1     93.0             70             31        0  30.4   \n",
       "\n",
       "     DiabetesPedigreeFunction  Age  \n",
       "763                     0.171   63  \n",
       "764                     0.340   27  \n",
       "765                     0.245   30  \n",
       "766                     0.349   47  \n",
       "767                     0.315   23  "
      ]
     },
     "execution_count": 9,
     "metadata": {},
     "output_type": "execute_result"
    }
   ],
   "source": [
    "pd.DataFrame(X,columns=df.columns[:-1]).tail()"
   ]
  },
  {
   "cell_type": "code",
   "execution_count": 10,
   "metadata": {},
   "outputs": [],
   "source": [
    "#### Train Test Split\n",
    "from sklearn.model_selection import train_test_split\n",
    "X_train, X_test, y_train, y_test = train_test_split(X, y, test_size=0.1, random_state=0)"
   ]
  },
  {
   "cell_type": "code",
   "execution_count": 11,
   "metadata": {},
   "outputs": [],
   "source": [
    "from sklearn.ensemble import RandomForestClassifier\n",
    "rf_classifier = RandomForestClassifier(n_estimators = 10).fit(X_train, y_train)\n",
    "prediction = rf_classifier.predict(X_test)"
   ]
  },
  {
   "cell_type": "code",
   "execution_count": 12,
   "metadata": {},
   "outputs": [
    {
     "data": {
      "text/plain": [
       "0    500\n",
       "1    268\n",
       "Name: Outcome, dtype: int64"
      ]
     },
     "execution_count": 12,
     "metadata": {},
     "output_type": "execute_result"
    }
   ],
   "source": [
    "y.value_counts()"
   ]
  },
  {
   "cell_type": "code",
   "execution_count": 13,
   "metadata": {},
   "outputs": [
    {
     "name": "stdout",
     "output_type": "stream",
     "text": [
      "[[41 10]\n",
      " [10 16]]\n",
      "0.7402597402597403\n",
      "              precision    recall  f1-score   support\n",
      "\n",
      "           0       0.80      0.80      0.80        51\n",
      "           1       0.62      0.62      0.62        26\n",
      "\n",
      "    accuracy                           0.74        77\n",
      "   macro avg       0.71      0.71      0.71        77\n",
      "weighted avg       0.74      0.74      0.74        77\n",
      "\n"
     ]
    }
   ],
   "source": [
    "from sklearn.metrics import confusion_matrix,classification_report,accuracy_score\n",
    "print(confusion_matrix(y_test,prediction))\n",
    "print(accuracy_score(y_test,prediction))\n",
    "print(classification_report(y_test,prediction))"
   ]
  },
  {
   "cell_type": "code",
   "execution_count": 14,
   "metadata": {},
   "outputs": [
    {
     "name": "stdout",
     "output_type": "stream",
     "text": [
      "[[45  6]\n",
      " [ 8 18]]\n",
      "0.8181818181818182\n",
      "              precision    recall  f1-score   support\n",
      "\n",
      "           0       0.85      0.88      0.87        51\n",
      "           1       0.75      0.69      0.72        26\n",
      "\n",
      "    accuracy                           0.82        77\n",
      "   macro avg       0.80      0.79      0.79        77\n",
      "weighted avg       0.82      0.82      0.82        77\n",
      "\n"
     ]
    }
   ],
   "source": [
    "### Manual Hyperparameter Tuning\n",
    "model=RandomForestClassifier(n_estimators=300,criterion='entropy',\n",
    "                             max_features='sqrt',min_samples_leaf=10,random_state=100).fit(X_train,y_train)\n",
    "predictions=model.predict(X_test)\n",
    "print(confusion_matrix(y_test,predictions))\n",
    "print(accuracy_score(y_test,predictions))\n",
    "print(classification_report(y_test,predictions))"
   ]
  },
  {
   "cell_type": "markdown",
   "metadata": {},
   "source": [
    "### Randomized Search CV"
   ]
  },
  {
   "cell_type": "code",
   "execution_count": 15,
   "metadata": {},
   "outputs": [],
   "source": [
    "import numpy as np\n",
    "from sklearn.model_selection import RandomizedSearchCV, GridSearchCV"
   ]
  },
  {
   "cell_type": "code",
   "execution_count": 16,
   "metadata": {},
   "outputs": [],
   "source": [
    "# Number of trees in random forest\n",
    "n_estimators = [int(x) for x in np.linspace(start = 200, stop = 2000, num = 10)]\n",
    "\n",
    "# Number of features to consider at every split\n",
    "max_features = ['auto', 'sqrt','log2']\n",
    "\n",
    "# Maximum number of levels in tree\n",
    "max_depth = [int(x) for x in np.linspace(10, 1000, 10)]\n",
    "\n",
    "# Minimum number of samples required to split a node\n",
    "min_samples_split = [2, 5, 10, 14]\n",
    "\n",
    "# Minimum number of samples required at each leaf node\n",
    "min_samples_leaf = [1, 2, 4, 6, 8]"
   ]
  },
  {
   "cell_type": "code",
   "execution_count": 17,
   "metadata": {},
   "outputs": [
    {
     "name": "stdout",
     "output_type": "stream",
     "text": [
      "{'n_estimators': [200, 400, 600, 800, 1000, 1200, 1400, 1600, 1800, 2000], 'max_features': ['auto', 'sqrt', 'log2'], 'max_depth': [10, 120, 230, 340, 450, 560, 670, 780, 890, 1000], 'min_samples_split': [2, 5, 10, 14], 'min_samples_leaf': [1, 2, 4, 6, 8], 'criterion': ['entropy', 'gini']}\n"
     ]
    }
   ],
   "source": [
    "# Create the random grid\n",
    "random_grid = {'n_estimators': n_estimators,\n",
    "               'max_features': max_features,\n",
    "               'max_depth': max_depth,\n",
    "               'min_samples_split': min_samples_split,\n",
    "               'min_samples_leaf': min_samples_leaf,\n",
    "              'criterion':['entropy','gini']}\n",
    "print(random_grid)"
   ]
  },
  {
   "cell_type": "code",
   "execution_count": 18,
   "metadata": {},
   "outputs": [],
   "source": [
    "rf=RandomForestClassifier()\n",
    "rf_randomcv=RandomizedSearchCV(\n",
    "    estimator = rf, \n",
    "    param_distributions = random_grid,\n",
    "    n_iter=100, cv=3,\n",
    "    verbose=2,\n",
    "    random_state=100,\n",
    "    n_jobs=-1\n",
    ")"
   ]
  },
  {
   "cell_type": "code",
   "execution_count": 19,
   "metadata": {},
   "outputs": [
    {
     "name": "stdout",
     "output_type": "stream",
     "text": [
      "Fitting 3 folds for each of 100 candidates, totalling 300 fits\n"
     ]
    },
    {
     "name": "stderr",
     "output_type": "stream",
     "text": [
      "[Parallel(n_jobs=-1)]: Using backend LokyBackend with 8 concurrent workers.\n",
      "[Parallel(n_jobs=-1)]: Done  25 tasks      | elapsed:   20.6s\n",
      "[Parallel(n_jobs=-1)]: Done 146 tasks      | elapsed:  1.4min\n",
      "[Parallel(n_jobs=-1)]: Done 300 out of 300 | elapsed:  3.2min finished\n"
     ]
    },
    {
     "data": {
      "text/plain": [
       "RandomizedSearchCV(cv=3, error_score=nan,\n",
       "                   estimator=RandomForestClassifier(bootstrap=True,\n",
       "                                                    ccp_alpha=0.0,\n",
       "                                                    class_weight=None,\n",
       "                                                    criterion='gini',\n",
       "                                                    max_depth=None,\n",
       "                                                    max_features='auto',\n",
       "                                                    max_leaf_nodes=None,\n",
       "                                                    max_samples=None,\n",
       "                                                    min_impurity_decrease=0.0,\n",
       "                                                    min_impurity_split=None,\n",
       "                                                    min_samples_leaf=1,\n",
       "                                                    min_samples_split=2,\n",
       "                                                    min_weight_fraction_leaf=0.0,\n",
       "                                                    n_estimators=100,\n",
       "                                                    n_jobs...\n",
       "                   param_distributions={'criterion': ['entropy', 'gini'],\n",
       "                                        'max_depth': [10, 120, 230, 340, 450,\n",
       "                                                      560, 670, 780, 890,\n",
       "                                                      1000],\n",
       "                                        'max_features': ['auto', 'sqrt',\n",
       "                                                         'log2'],\n",
       "                                        'min_samples_leaf': [1, 2, 4, 6, 8],\n",
       "                                        'min_samples_split': [2, 5, 10, 14],\n",
       "                                        'n_estimators': [200, 400, 600, 800,\n",
       "                                                         1000, 1200, 1400, 1600,\n",
       "                                                         1800, 2000]},\n",
       "                   pre_dispatch='2*n_jobs', random_state=100, refit=True,\n",
       "                   return_train_score=False, scoring=None, verbose=2)"
      ]
     },
     "execution_count": 19,
     "metadata": {},
     "output_type": "execute_result"
    }
   ],
   "source": [
    "### fit the randomized model\n",
    "rf_randomcv.fit(X_train, y_train)"
   ]
  },
  {
   "cell_type": "code",
   "execution_count": 20,
   "metadata": {},
   "outputs": [
    {
     "data": {
      "text/plain": [
       "{'n_estimators': 800,\n",
       " 'min_samples_split': 2,\n",
       " 'min_samples_leaf': 4,\n",
       " 'max_features': 'log2',\n",
       " 'max_depth': 450,\n",
       " 'criterion': 'entropy'}"
      ]
     },
     "execution_count": 20,
     "metadata": {},
     "output_type": "execute_result"
    }
   ],
   "source": [
    "rf_randomcv.best_params_"
   ]
  },
  {
   "cell_type": "code",
   "execution_count": 21,
   "metadata": {},
   "outputs": [
    {
     "data": {
      "text/plain": [
       "RandomizedSearchCV(cv=3, error_score=nan,\n",
       "                   estimator=RandomForestClassifier(bootstrap=True,\n",
       "                                                    ccp_alpha=0.0,\n",
       "                                                    class_weight=None,\n",
       "                                                    criterion='gini',\n",
       "                                                    max_depth=None,\n",
       "                                                    max_features='auto',\n",
       "                                                    max_leaf_nodes=None,\n",
       "                                                    max_samples=None,\n",
       "                                                    min_impurity_decrease=0.0,\n",
       "                                                    min_impurity_split=None,\n",
       "                                                    min_samples_leaf=1,\n",
       "                                                    min_samples_split=2,\n",
       "                                                    min_weight_fraction_leaf=0.0,\n",
       "                                                    n_estimators=100,\n",
       "                                                    n_jobs...\n",
       "                   param_distributions={'criterion': ['entropy', 'gini'],\n",
       "                                        'max_depth': [10, 120, 230, 340, 450,\n",
       "                                                      560, 670, 780, 890,\n",
       "                                                      1000],\n",
       "                                        'max_features': ['auto', 'sqrt',\n",
       "                                                         'log2'],\n",
       "                                        'min_samples_leaf': [1, 2, 4, 6, 8],\n",
       "                                        'min_samples_split': [2, 5, 10, 14],\n",
       "                                        'n_estimators': [200, 400, 600, 800,\n",
       "                                                         1000, 1200, 1400, 1600,\n",
       "                                                         1800, 2000]},\n",
       "                   pre_dispatch='2*n_jobs', random_state=100, refit=True,\n",
       "                   return_train_score=False, scoring=None, verbose=2)"
      ]
     },
     "execution_count": 21,
     "metadata": {},
     "output_type": "execute_result"
    }
   ],
   "source": [
    "rf_randomcv"
   ]
  },
  {
   "cell_type": "code",
   "execution_count": 22,
   "metadata": {},
   "outputs": [],
   "source": [
    "best_random_grid = rf_randomcv.best_estimator_"
   ]
  },
  {
   "cell_type": "code",
   "execution_count": 23,
   "metadata": {},
   "outputs": [
    {
     "name": "stdout",
     "output_type": "stream",
     "text": [
      "[[44  7]\n",
      " [ 7 19]]\n",
      "Accuracy Score 0.8181818181818182\n",
      "Classification report:               precision    recall  f1-score   support\n",
      "\n",
      "           0       0.86      0.86      0.86        51\n",
      "           1       0.73      0.73      0.73        26\n",
      "\n",
      "    accuracy                           0.82        77\n",
      "   macro avg       0.80      0.80      0.80        77\n",
      "weighted avg       0.82      0.82      0.82        77\n",
      "\n"
     ]
    }
   ],
   "source": [
    "from sklearn.metrics import accuracy_score\n",
    "y_pred=best_random_grid.predict(X_test)\n",
    "print(confusion_matrix(y_test,y_pred))\n",
    "print(\"Accuracy Score {}\".format(accuracy_score(y_test,y_pred)))\n",
    "print(\"Classification report: {}\".format(classification_report(y_test,y_pred)))"
   ]
  },
  {
   "cell_type": "code",
   "execution_count": 24,
   "metadata": {},
   "outputs": [
    {
     "data": {
      "text/plain": [
       "{'n_estimators': 800,\n",
       " 'min_samples_split': 2,\n",
       " 'min_samples_leaf': 4,\n",
       " 'max_features': 'log2',\n",
       " 'max_depth': 450,\n",
       " 'criterion': 'entropy'}"
      ]
     },
     "execution_count": 24,
     "metadata": {},
     "output_type": "execute_result"
    }
   ],
   "source": [
    "rf_randomcv.best_params_"
   ]
  },
  {
   "cell_type": "code",
   "execution_count": 25,
   "metadata": {},
   "outputs": [
    {
     "name": "stdout",
     "output_type": "stream",
     "text": [
      "{'criterion': ['entropy'], 'max_depth': [450], 'max_features': ['log2'], 'min_samples_leaf': [4, 6, 8], 'min_samples_split': [0, 1, 2, 3, 4], 'n_estimators': [600, 700, 800, 900, 1000]}\n"
     ]
    }
   ],
   "source": [
    "from sklearn.model_selection import GridSearchCV\n",
    "\n",
    "param_grid = {\n",
    "    'criterion': [rf_randomcv.best_params_['criterion']],\n",
    "    'max_depth': [rf_randomcv.best_params_['max_depth']],\n",
    "    'max_features': [rf_randomcv.best_params_['max_features']],\n",
    "    'min_samples_leaf': [rf_randomcv.best_params_['min_samples_leaf'], \n",
    "                         rf_randomcv.best_params_['min_samples_leaf']+2, \n",
    "                         rf_randomcv.best_params_['min_samples_leaf'] + 4],\n",
    "    'min_samples_split': [rf_randomcv.best_params_['min_samples_split'] - 2,\n",
    "                          rf_randomcv.best_params_['min_samples_split'] - 1,\n",
    "                          rf_randomcv.best_params_['min_samples_split'], \n",
    "                          rf_randomcv.best_params_['min_samples_split'] +1,\n",
    "                          rf_randomcv.best_params_['min_samples_split'] + 2],\n",
    "    'n_estimators': [rf_randomcv.best_params_['n_estimators'] - 200, rf_randomcv.best_params_['n_estimators'] - 100, \n",
    "                     rf_randomcv.best_params_['n_estimators'], \n",
    "                     rf_randomcv.best_params_['n_estimators'] + 100, rf_randomcv.best_params_['n_estimators'] + 200]\n",
    "}\n",
    "\n",
    "print(param_grid)"
   ]
  },
  {
   "cell_type": "code",
   "execution_count": 26,
   "metadata": {},
   "outputs": [
    {
     "name": "stdout",
     "output_type": "stream",
     "text": [
      "Fitting 10 folds for each of 75 candidates, totalling 750 fits\n"
     ]
    },
    {
     "name": "stderr",
     "output_type": "stream",
     "text": [
      "[Parallel(n_jobs=-1)]: Using backend LokyBackend with 8 concurrent workers.\n",
      "[Parallel(n_jobs=-1)]: Done  25 tasks      | elapsed:    3.2s\n",
      "[Parallel(n_jobs=-1)]: Done 146 tasks      | elapsed:   39.2s\n",
      "[Parallel(n_jobs=-1)]: Done 349 tasks      | elapsed:  1.8min\n",
      "[Parallel(n_jobs=-1)]: Done 632 tasks      | elapsed:  3.7min\n",
      "[Parallel(n_jobs=-1)]: Done 750 out of 750 | elapsed:  4.8min finished\n"
     ]
    },
    {
     "data": {
      "text/plain": [
       "GridSearchCV(cv=10, error_score=nan,\n",
       "             estimator=RandomForestClassifier(bootstrap=True, ccp_alpha=0.0,\n",
       "                                              class_weight=None,\n",
       "                                              criterion='gini', max_depth=None,\n",
       "                                              max_features='auto',\n",
       "                                              max_leaf_nodes=None,\n",
       "                                              max_samples=None,\n",
       "                                              min_impurity_decrease=0.0,\n",
       "                                              min_impurity_split=None,\n",
       "                                              min_samples_leaf=1,\n",
       "                                              min_samples_split=2,\n",
       "                                              min_weight_fraction_leaf=0.0,\n",
       "                                              n_estimators=100, n_jobs=None,\n",
       "                                              oob_score=False,\n",
       "                                              random_state=None, verbose=0,\n",
       "                                              warm_start=False),\n",
       "             iid='deprecated', n_jobs=-1,\n",
       "             param_grid={'criterion': ['entropy'], 'max_depth': [450],\n",
       "                         'max_features': ['log2'],\n",
       "                         'min_samples_leaf': [4, 6, 8],\n",
       "                         'min_samples_split': [0, 1, 2, 3, 4],\n",
       "                         'n_estimators': [600, 700, 800, 900, 1000]},\n",
       "             pre_dispatch='2*n_jobs', refit=True, return_train_score=False,\n",
       "             scoring=None, verbose=2)"
      ]
     },
     "execution_count": 26,
     "metadata": {},
     "output_type": "execute_result"
    }
   ],
   "source": [
    "#### Fit the grid_search to the data\n",
    "rf=RandomForestClassifier()\n",
    "grid_search=GridSearchCV(estimator=rf,param_grid=param_grid,cv=10,n_jobs=-1,verbose=2)\n",
    "grid_search.fit(X_train,y_train)"
   ]
  },
  {
   "cell_type": "code",
   "execution_count": 27,
   "metadata": {},
   "outputs": [
    {
     "data": {
      "text/plain": [
       "RandomForestClassifier(bootstrap=True, ccp_alpha=0.0, class_weight=None,\n",
       "                       criterion='entropy', max_depth=450, max_features='log2',\n",
       "                       max_leaf_nodes=None, max_samples=None,\n",
       "                       min_impurity_decrease=0.0, min_impurity_split=None,\n",
       "                       min_samples_leaf=4, min_samples_split=4,\n",
       "                       min_weight_fraction_leaf=0.0, n_estimators=700,\n",
       "                       n_jobs=None, oob_score=False, random_state=None,\n",
       "                       verbose=0, warm_start=False)"
      ]
     },
     "execution_count": 27,
     "metadata": {},
     "output_type": "execute_result"
    }
   ],
   "source": [
    "grid_search.best_estimator_"
   ]
  },
  {
   "cell_type": "code",
   "execution_count": 28,
   "metadata": {},
   "outputs": [],
   "source": [
    "best_grid=grid_search.best_estimator_"
   ]
  },
  {
   "cell_type": "code",
   "execution_count": 29,
   "metadata": {},
   "outputs": [
    {
     "name": "stdout",
     "output_type": "stream",
     "text": [
      "[[44  7]\n",
      " [ 8 18]]\n",
      "Accuracy Score 0.8051948051948052\n",
      "Classification report:               precision    recall  f1-score   support\n",
      "\n",
      "           0       0.85      0.86      0.85        51\n",
      "           1       0.72      0.69      0.71        26\n",
      "\n",
      "    accuracy                           0.81        77\n",
      "   macro avg       0.78      0.78      0.78        77\n",
      "weighted avg       0.80      0.81      0.80        77\n",
      "\n"
     ]
    }
   ],
   "source": [
    "y_pred=best_grid.predict(X_test)\n",
    "print(confusion_matrix(y_test,y_pred))\n",
    "print(\"Accuracy Score {}\".format(accuracy_score(y_test,y_pred)))\n",
    "print(\"Classification report: {}\".format(classification_report(y_test,y_pred)))"
   ]
  },
  {
   "cell_type": "markdown",
   "metadata": {},
   "source": [
    "### Automated Hyperparameter Tuning\n",
    "\n",
    "Automated Hyperparameter Tuning can be done by using techniques such as\n",
    "\n",
    "- Bayesian Optimization\n",
    "- Gradient Descent\n",
    "- Evolutionary Algorithms\n",
    "\n",
    "#### Bayesian Optimization\n",
    "\n",
    "Bayesian optimization uses probability to find the minimum of a function. The final aim is to find the input value to a function which can gives us the lowest possible output value.It usually performs better than random,grid and manual search providing better performance in the testing phase and reduced optimization time. In Hyperopt, Bayesian Optimization can be implemented giving 3 three main parameters to the function fmin.\n",
    "\n",
    "- Objective Function = defines the loss function to minimize.\n",
    "- Domain Space = defines the range of input values to test (in Bayesian Optimization this space creates a probability distribution for each of the used Hyperparameters).\n",
    "- Optimization Algorithm = defines the search algorithm to use to select the best input values to use in each new iteration."
   ]
  },
  {
   "cell_type": "code",
   "execution_count": 30,
   "metadata": {},
   "outputs": [],
   "source": [
    "from hyperopt import (\n",
    "    hp, \n",
    "    fmin, \n",
    "    tpe, \n",
    "    STATUS_OK, \n",
    "    Trials\n",
    ")"
   ]
  },
  {
   "cell_type": "code",
   "execution_count": 31,
   "metadata": {},
   "outputs": [
    {
     "data": {
      "text/plain": [
       "{'criterion': <hyperopt.pyll.base.Apply at 0x1bb3c216cc8>,\n",
       " 'max_depth': <hyperopt.pyll.base.Apply at 0x1bb3c218208>,\n",
       " 'max_features': <hyperopt.pyll.base.Apply at 0x1bb3c213648>,\n",
       " 'min_samples_leaf': <hyperopt.pyll.base.Apply at 0x1bb3c211fc8>,\n",
       " 'min_samples_split': <hyperopt.pyll.base.Apply at 0x1bb3c211a48>,\n",
       " 'n_estimators': <hyperopt.pyll.base.Apply at 0x1bb3c20fe88>}"
      ]
     },
     "execution_count": 31,
     "metadata": {},
     "output_type": "execute_result"
    }
   ],
   "source": [
    "space = {'criterion': hp.choice('criterion', ['entropy', 'gini']),\n",
    "        'max_depth': hp.quniform('max_depth', 10, 1200, 10),\n",
    "        'max_features': hp.choice('max_features', ['auto', 'sqrt','log2', None]),\n",
    "        'min_samples_leaf': hp.uniform('min_samples_leaf', 0, 0.5),\n",
    "        'min_samples_split' : hp.uniform ('min_samples_split', 0, 1),\n",
    "        'n_estimators' : hp.choice('n_estimators', [10, 50, 300, 750, 1200,1300,1500])\n",
    "}\n",
    "space"
   ]
  },
  {
   "cell_type": "code",
   "execution_count": 32,
   "metadata": {},
   "outputs": [],
   "source": [
    "def objective(space):\n",
    "    model = RandomForestClassifier(criterion = space['criterion'], max_depth = space['max_depth'],\n",
    "                                 max_features = space['max_features'],\n",
    "                                 min_samples_leaf = space['min_samples_leaf'],\n",
    "                                 min_samples_split = space['min_samples_split'],\n",
    "                                 n_estimators = space['n_estimators'], \n",
    "                                 )\n",
    "    \n",
    "    accuracy = cross_val_score(model, X_train, y_train, cv = 5).mean()\n",
    "\n",
    "    # We aim to maximize accuracy, therefore we return it as a negative value\n",
    "    return {'loss': -accuracy, 'status': STATUS_OK }"
   ]
  },
  {
   "cell_type": "code",
   "execution_count": 33,
   "metadata": {},
   "outputs": [
    {
     "name": "stdout",
     "output_type": "stream",
     "text": [
      "100%|███████████████████████████████████████████████| 80/80 [05:54<00:00,  4.43s/trial, best loss: -0.7698988635178813]\n"
     ]
    },
    {
     "data": {
      "text/plain": [
       "{'criterion': 1,\n",
       " 'max_depth': 770.0,\n",
       " 'max_features': 2,\n",
       " 'min_samples_leaf': 0.0022236194036839192,\n",
       " 'min_samples_split': 0.024212957033487057,\n",
       " 'n_estimators': 1}"
      ]
     },
     "execution_count": 33,
     "metadata": {},
     "output_type": "execute_result"
    }
   ],
   "source": [
    "from sklearn.model_selection import cross_val_score\n",
    "trials = Trials()\n",
    "best = fmin(fn = objective,\n",
    "            space = space,\n",
    "            algo = tpe.suggest,\n",
    "            max_evals = 80,\n",
    "            trials = trials)\n",
    "best"
   ]
  },
  {
   "cell_type": "code",
   "execution_count": 34,
   "metadata": {},
   "outputs": [
    {
     "name": "stdout",
     "output_type": "stream",
     "text": [
      "gini\n",
      "log2\n",
      "50\n"
     ]
    }
   ],
   "source": [
    "crit = {0: 'entropy', 1: 'gini'}\n",
    "feat = {0: 'auto', 1: 'sqrt', 2: 'log2', 3: None}\n",
    "est = {0: 10, 1: 50, 2: 300, 3: 750, 4: 1200,5:1300,6:1500}\n",
    "\n",
    "print(crit[best['criterion']])\n",
    "print(feat[best['max_features']])\n",
    "print(est[best['n_estimators']])"
   ]
  },
  {
   "cell_type": "code",
   "execution_count": 35,
   "metadata": {},
   "outputs": [
    {
     "data": {
      "text/plain": [
       "0.0022236194036839192"
      ]
     },
     "execution_count": 35,
     "metadata": {},
     "output_type": "execute_result"
    }
   ],
   "source": [
    "best['min_samples_leaf']"
   ]
  },
  {
   "cell_type": "code",
   "execution_count": 36,
   "metadata": {},
   "outputs": [
    {
     "name": "stdout",
     "output_type": "stream",
     "text": [
      "[[45  6]\n",
      " [ 8 18]]\n",
      "0.8181818181818182\n",
      "              precision    recall  f1-score   support\n",
      "\n",
      "           0       0.85      0.88      0.87        51\n",
      "           1       0.75      0.69      0.72        26\n",
      "\n",
      "    accuracy                           0.82        77\n",
      "   macro avg       0.80      0.79      0.79        77\n",
      "weighted avg       0.82      0.82      0.82        77\n",
      "\n"
     ]
    }
   ],
   "source": [
    "trainedforest = RandomForestClassifier(criterion = crit[best['criterion']], max_depth = best['max_depth'], \n",
    "                                       max_features = feat[best['max_features']], \n",
    "                                       min_samples_leaf = best['min_samples_leaf'], \n",
    "                                       min_samples_split = best['min_samples_split'], \n",
    "                                       n_estimators = est[best['n_estimators']]).fit(X_train,y_train)\n",
    "predictionforest = trainedforest.predict(X_test)\n",
    "print(confusion_matrix(y_test, predictionforest))\n",
    "print(accuracy_score(y_test, predictionforest))\n",
    "print(classification_report(y_test, predictionforest))\n",
    "acc5 = accuracy_score(y_test, predictionforest)"
   ]
  },
  {
   "cell_type": "markdown",
   "metadata": {},
   "source": [
    "### Genetic Algorithms"
   ]
  },
  {
   "cell_type": "markdown",
   "metadata": {},
   "source": [
    "__Genetic Algorithms tries to apply natural selection mechanisms to Machine Learning contexts.__\n",
    "\n",
    "Let's immagine we create a population of N Machine Learning models with some predifined Hyperparameters. We can then calculate the accuracy of each model and decide to keep just half of the models (the ones that performs best). We can now generate some offsprings having similar Hyperparameters to the ones of the best models so that go get again a population of N models. At this point we can again caltulate the accuracy of each model and repeate the cycle for a defined number of generations. In this way, just the best models will survive at the end of the process."
   ]
  },
  {
   "cell_type": "code",
   "execution_count": 37,
   "metadata": {},
   "outputs": [
    {
     "name": "stdout",
     "output_type": "stream",
     "text": [
      "{'n_estimators': [200, 400, 600, 800, 1000, 1200, 1400, 1600, 1800, 2000], 'max_features': ['auto', 'sqrt', 'log2'], 'max_depth': [10, 120, 230, 340, 450, 560, 670, 780, 890, 1000], 'min_samples_split': [2, 5, 10, 14], 'min_samples_leaf': [1, 2, 4, 6, 8], 'criterion': ['entropy', 'gini']}\n"
     ]
    }
   ],
   "source": [
    "import numpy as np\n",
    "from sklearn.model_selection import RandomizedSearchCV\n",
    "\n",
    "# Number of trees in random forest\n",
    "n_estimators = [int(x) for x in np.linspace(start = 200, stop = 2000, num = 10)]\n",
    "\n",
    "# Number of features to consider at every split\n",
    "max_features = ['auto', 'sqrt','log2']\n",
    "\n",
    "# Maximum number of levels in tree\n",
    "max_depth = [int(x) for x in np.linspace(10, 1000,10)]\n",
    "\n",
    "# Minimum number of samples required to split a node\n",
    "min_samples_split = [2, 5, 10,14]\n",
    "\n",
    "# Minimum number of samples required at each leaf node\n",
    "min_samples_leaf = [1, 2, 4, 6, 8]\n",
    "\n",
    "# Create the random grid\n",
    "param = {'n_estimators': n_estimators,\n",
    "               'max_features': max_features,\n",
    "               'max_depth': max_depth,\n",
    "               'min_samples_split': min_samples_split,\n",
    "               'min_samples_leaf': min_samples_leaf,\n",
    "              'criterion':['entropy','gini']}\n",
    "print(param)"
   ]
  },
  {
   "cell_type": "code",
   "execution_count": 39,
   "metadata": {},
   "outputs": [
    {
     "data": {
      "application/vnd.jupyter.widget-view+json": {
       "model_id": "",
       "version_major": 2,
       "version_minor": 0
      },
      "text/plain": [
       "HBox(children=(FloatProgress(value=0.0, description='Optimization Progress', max=84.0, style=ProgressStyle(des…"
      ]
     },
     "metadata": {},
     "output_type": "display_data"
    },
    {
     "name": "stdout",
     "output_type": "stream",
     "text": [
      "\n",
      "Generation 1 - Current best internal CV score: 0.7756250840166689\n",
      "Generation 2 - Current best internal CV score: 0.7756250840166689\n",
      "Generation 3 - Current best internal CV score: 0.7756250840166689\n",
      "Generation 4 - Current best internal CV score: 0.7756250840166689\n",
      "Generation 5 - Current best internal CV score: 0.7756250840166689\n",
      "Best pipeline: RandomForestClassifier(RandomForestClassifier(input_matrix, criterion=gini, max_depth=230, max_features=log2, min_samples_leaf=8, min_samples_split=2, n_estimators=400), criterion=entropy, max_depth=230, max_features=auto, min_samples_leaf=6, min_samples_split=5, n_estimators=2000)\n"
     ]
    },
    {
     "data": {
      "text/plain": [
       "TPOTClassifier(config_dict={'sklearn.ensemble.RandomForestClassifier': {'criterion': ['entropy',\n",
       "                                                                                      'gini'],\n",
       "                                                                        'max_depth': [10,\n",
       "                                                                                      120,\n",
       "                                                                                      230,\n",
       "                                                                                      340,\n",
       "                                                                                      450,\n",
       "                                                                                      560,\n",
       "                                                                                      670,\n",
       "                                                                                      780,\n",
       "                                                                                      890,\n",
       "                                                                                      1000],\n",
       "                                                                        'max_features': ['auto',\n",
       "                                                                                         'sqrt',\n",
       "                                                                                         'log2'],\n",
       "                                                                        'min_samples_leaf': [1,\n",
       "                                                                                             2,\n",
       "                                                                                             4,\n",
       "                                                                                             6,\n",
       "                                                                                             8],\n",
       "                                                                        'min_samples_split': [2,\n",
       "                                                                                              5,\n",
       "                                                                                              10,\n",
       "                                                                                              14],\n",
       "                                                                        'n_estimators': [200,\n",
       "                                                                                         400,\n",
       "                                                                                         600,\n",
       "                                                                                         800,\n",
       "                                                                                         1000,\n",
       "                                                                                         1200,\n",
       "                                                                                         1400,\n",
       "                                                                                         1600,\n",
       "                                                                                         1800,\n",
       "                                                                                         2000]}},\n",
       "               crossover_rate=0.1, cv=4, disa...\n",
       "               early_stop=12, generations=5,\n",
       "               log_file=<ipykernel.iostream.OutStream object at 0x000001BB21D02908>,\n",
       "               max_eval_time_mins=5, max_time_mins=None, memory=None,\n",
       "               mutation_rate=0.9, n_jobs=1, offspring_size=12,\n",
       "               periodic_checkpoint_folder=None, population_size=24,\n",
       "               random_state=None, scoring='accuracy', subsample=1.0,\n",
       "               template=None, use_dask=False, verbosity=2, warm_start=False)"
      ]
     },
     "execution_count": 39,
     "metadata": {},
     "output_type": "execute_result"
    }
   ],
   "source": [
    "from tpot import TPOTClassifier\n",
    "\n",
    "\n",
    "tpot_classifier = TPOTClassifier(\n",
    "    generations = 5, population_size = 24, offspring_size = 12,\n",
    "    verbosity = 2, early_stop = 12,\n",
    "    config_dict = {'sklearn.ensemble.RandomForestClassifier': param}, \n",
    "    cv = 4, scoring = 'accuracy'\n",
    ")\n",
    "\n",
    "tpot_classifier.fit(X_train, y_train)"
   ]
  },
  {
   "cell_type": "code",
   "execution_count": 40,
   "metadata": {},
   "outputs": [
    {
     "name": "stdout",
     "output_type": "stream",
     "text": [
      "0.8181818181818182\n"
     ]
    }
   ],
   "source": [
    "accuracy = tpot_classifier.score(X_test, y_test)\n",
    "print(accuracy)"
   ]
  },
  {
   "cell_type": "markdown",
   "metadata": {},
   "source": [
    "\n",
    "### Optimize hyperparameters of the model using Optuna\n",
    "\n",
    "The hyperparameters of the above algorithm are `n_estimators` and `max_depth` for which we can try different values to see if the model accuracy can be improved. The objective function is modified to accept a trial object. This trial has several methods for sampling hyperparameters. We create a study to run the hyperparameter optimization and finally read the best hyperparameters."
   ]
  },
  {
   "cell_type": "code",
   "execution_count": 41,
   "metadata": {},
   "outputs": [],
   "source": [
    "import optuna\n",
    "import sklearn.svm\n",
    "\n",
    "def objective(trial):\n",
    "\n",
    "    classifier = trial.suggest_categorical('classifier', ['RandomForest', 'SVC'])\n",
    "    \n",
    "    if classifier == 'RandomForest':\n",
    "        n_estimators = trial.suggest_int('n_estimators', 200, 2000, 10)\n",
    "        max_depth = int(trial.suggest_float('max_depth', 10, 100, log=True))\n",
    "\n",
    "        clf = sklearn.ensemble.RandomForestClassifier(\n",
    "            n_estimators=n_estimators, max_depth=max_depth)\n",
    "    else:\n",
    "        c = trial.suggest_float('svc_c', 1e-10, 1e10, log=True)\n",
    "        \n",
    "        clf = sklearn.svm.SVC(C=c, gamma='auto')\n",
    "\n",
    "    return sklearn.model_selection.cross_val_score(\n",
    "        clf,X_train,y_train, n_jobs=-1, cv=3).mean()"
   ]
  },
  {
   "cell_type": "code",
   "execution_count": 42,
   "metadata": {
    "scrolled": false
   },
   "outputs": [
    {
     "name": "stderr",
     "output_type": "stream",
     "text": [
      "[I 2020-07-24 03:07:59,372] Finished trial#0 with value: 0.6497835497835498 with parameters: {'classifier': 'SVC', 'svc_c': 0.0015660490384854775}. Best is trial#0 with value: 0.6497835497835498.\n",
      "[I 2020-07-24 03:08:05,628] Finished trial#1 with value: 0.7482276177928352 with parameters: {'classifier': 'RandomForest', 'n_estimators': 1990, 'max_depth': 89.34611334214281}. Best is trial#1 with value: 0.7482276177928352.\n",
      "[I 2020-07-24 03:08:06,913] Finished trial#2 with value: 0.6497835497835498 with parameters: {'classifier': 'SVC', 'svc_c': 0.3738337836945634}. Best is trial#1 with value: 0.7482276177928352.\n",
      "[I 2020-07-24 03:08:07,087] Finished trial#3 with value: 0.6497835497835498 with parameters: {'classifier': 'SVC', 'svc_c': 3368137887.2257295}. Best is trial#1 with value: 0.7482276177928352.\n",
      "[I 2020-07-24 03:08:11,546] Finished trial#4 with value: 0.7482276177928352 with parameters: {'classifier': 'RandomForest', 'n_estimators': 1780, 'max_depth': 33.27516861649865}. Best is trial#1 with value: 0.7482276177928352.\n",
      "[I 2020-07-24 03:08:13,892] Finished trial#5 with value: 0.7511136206788379 with parameters: {'classifier': 'RandomForest', 'n_estimators': 870, 'max_depth': 15.663038692936226}. Best is trial#5 with value: 0.7511136206788379.\n",
      "[I 2020-07-24 03:08:15,753] Finished trial#6 with value: 0.7496706192358366 with parameters: {'classifier': 'RandomForest', 'n_estimators': 410, 'max_depth': 11.134646885495007}. Best is trial#5 with value: 0.7511136206788379.\n",
      "[I 2020-07-24 03:08:17,881] Finished trial#7 with value: 0.7496580713972018 with parameters: {'classifier': 'RandomForest', 'n_estimators': 830, 'max_depth': 49.89290469808833}. Best is trial#5 with value: 0.7511136206788379.\n",
      "[I 2020-07-24 03:08:22,348] Finished trial#8 with value: 0.7467783424305162 with parameters: {'classifier': 'RandomForest', 'n_estimators': 1790, 'max_depth': 11.889670572980961}. Best is trial#5 with value: 0.7511136206788379.\n",
      "[I 2020-07-24 03:08:23,918] Finished trial#9 with value: 0.7496831670744714 with parameters: {'classifier': 'RandomForest', 'n_estimators': 520, 'max_depth': 30.541737987376308}. Best is trial#5 with value: 0.7511136206788379.\n",
      "[I 2020-07-24 03:08:27,651] Finished trial#10 with value: 0.7496580713972018 with parameters: {'classifier': 'RandomForest', 'n_estimators': 1260, 'max_depth': 19.306002278207977}. Best is trial#5 with value: 0.7511136206788379.\n",
      "[I 2020-07-24 03:08:28,279] Finished trial#11 with value: 0.740981240981241 with parameters: {'classifier': 'RandomForest', 'n_estimators': 200, 'max_depth': 20.15238250211971}. Best is trial#5 with value: 0.7511136206788379.\n",
      "[I 2020-07-24 03:08:30,811] Finished trial#12 with value: 0.7467657945918815 with parameters: {'classifier': 'RandomForest', 'n_estimators': 700, 'max_depth': 21.418506156119378}. Best is trial#5 with value: 0.7511136206788379.\n",
      "[I 2020-07-24 03:08:34,048] Finished trial#13 with value: 0.7511136206788381 with parameters: {'classifier': 'RandomForest', 'n_estimators': 1210, 'max_depth': 42.728175594146116}. Best is trial#13 with value: 0.7511136206788381.\n",
      "[I 2020-07-24 03:08:37,718] Finished trial#14 with value: 0.7496706192358366 with parameters: {'classifier': 'RandomForest', 'n_estimators': 1180, 'max_depth': 58.65031334626104}. Best is trial#13 with value: 0.7511136206788381.\n",
      "[I 2020-07-24 03:08:41,595] Finished trial#15 with value: 0.7467657945918815 with parameters: {'classifier': 'RandomForest', 'n_estimators': 1440, 'max_depth': 44.11233594967519}. Best is trial#13 with value: 0.7511136206788381.\n",
      "[I 2020-07-24 03:08:44,397] Finished trial#16 with value: 0.7453416149068323 with parameters: {'classifier': 'RandomForest', 'n_estimators': 890, 'max_depth': 80.6831205524928}. Best is trial#13 with value: 0.7511136206788381.\n",
      "[I 2020-07-24 03:08:44,580] Finished trial#17 with value: 0.6497835497835498 with parameters: {'classifier': 'SVC', 'svc_c': 1.0143020094470571e-10}. Best is trial#13 with value: 0.7511136206788381.\n",
      "[I 2020-07-24 03:08:48,527] Finished trial#18 with value: 0.7496706192358366 with parameters: {'classifier': 'RandomForest', 'n_estimators': 1390, 'max_depth': 13.946976182547289}. Best is trial#13 with value: 0.7511136206788381.\n",
      "[I 2020-07-24 03:08:50,892] Finished trial#19 with value: 0.7438860656251961 with parameters: {'classifier': 'RandomForest', 'n_estimators': 920, 'max_depth': 30.19402015802283}. Best is trial#13 with value: 0.7511136206788381.\n",
      "[I 2020-07-24 03:08:54,502] Finished trial#20 with value: 0.7496643453165192 with parameters: {'classifier': 'RandomForest', 'n_estimators': 1030, 'max_depth': 15.807164663625658}. Best is trial#13 with value: 0.7511136206788381.\n",
      "[I 2020-07-24 03:08:56,518] Finished trial#21 with value: 0.7467783424305163 with parameters: {'classifier': 'RandomForest', 'n_estimators': 560, 'max_depth': 28.270011130575593}. Best is trial#13 with value: 0.7511136206788381.\n",
      "[I 2020-07-24 03:08:57,685] Finished trial#22 with value: 0.7482150699542004 with parameters: {'classifier': 'RandomForest', 'n_estimators': 340, 'max_depth': 40.20625016285755}. Best is trial#13 with value: 0.7511136206788381.\n",
      "[I 2020-07-24 03:08:59,840] Finished trial#23 with value: 0.7511136206788379 with parameters: {'classifier': 'RandomForest', 'n_estimators': 650, 'max_depth': 70.60028337706387}. Best is trial#13 with value: 0.7511136206788381.\n",
      "[I 2020-07-24 03:09:01,813] Finished trial#24 with value: 0.7540184453227932 with parameters: {'classifier': 'RandomForest', 'n_estimators': 700, 'max_depth': 65.9299283155072}. Best is trial#24 with value: 0.7540184453227932.\n",
      "[I 2020-07-24 03:09:04,906] Finished trial#25 with value: 0.749676893155154 with parameters: {'classifier': 'RandomForest', 'n_estimators': 1090, 'max_depth': 58.756904142014335}. Best is trial#24 with value: 0.7540184453227932.\n",
      "[I 2020-07-24 03:09:06,681] Finished trial#26 with value: 0.7511136206788379 with parameters: {'classifier': 'RandomForest', 'n_estimators': 660, 'max_depth': 73.91706492274692}. Best is trial#24 with value: 0.7540184453227932.\n",
      "[I 2020-07-24 03:09:06,845] Finished trial#27 with value: 0.6497835497835498 with parameters: {'classifier': 'SVC', 'svc_c': 400699073.1300441}. Best is trial#24 with value: 0.7540184453227932.\n",
      "[I 2020-07-24 03:09:11,368] Finished trial#28 with value: 0.7496643453165192 with parameters: {'classifier': 'RandomForest', 'n_estimators': 1410, 'max_depth': 40.20980961327379}. Best is trial#24 with value: 0.7540184453227932.\n",
      "[I 2020-07-24 03:09:11,553] Finished trial#29 with value: 0.6497835497835498 with parameters: {'classifier': 'SVC', 'svc_c': 3.597373134300711e-10}. Best is trial#24 with value: 0.7540184453227932.\n",
      "[I 2020-07-24 03:09:12,344] Finished trial#30 with value: 0.7366459627329193 with parameters: {'classifier': 'RandomForest', 'n_estimators': 280, 'max_depth': 99.27245976097647}. Best is trial#24 with value: 0.7540184453227932.\n",
      "[I 2020-07-24 03:09:14,223] Finished trial#31 with value: 0.7467657945918815 with parameters: {'classifier': 'RandomForest', 'n_estimators': 660, 'max_depth': 70.11944947177997}. Best is trial#24 with value: 0.7540184453227932.\n",
      "[I 2020-07-24 03:09:16,907] Finished trial#32 with value: 0.7482276177928352 with parameters: {'classifier': 'RandomForest', 'n_estimators': 720, 'max_depth': 70.54977871986748}. Best is trial#24 with value: 0.7540184453227932.\n",
      "[I 2020-07-24 03:09:18,253] Finished trial#33 with value: 0.7525440742832048 with parameters: {'classifier': 'RandomForest', 'n_estimators': 500, 'max_depth': 58.358401308767924}. Best is trial#24 with value: 0.7540184453227932.\n",
      "[I 2020-07-24 03:09:20,859] Finished trial#34 with value: 0.7496643453165192 with parameters: {'classifier': 'RandomForest', 'n_estimators': 1000, 'max_depth': 55.389548824623795}. Best is trial#24 with value: 0.7540184453227932.\n",
      "[I 2020-07-24 03:09:22,153] Finished trial#35 with value: 0.7424367902628773 with parameters: {'classifier': 'RandomForest', 'n_estimators': 470, 'max_depth': 48.552005121189254}. Best is trial#24 with value: 0.7540184453227932.\n"
     ]
    },
    {
     "name": "stderr",
     "output_type": "stream",
     "text": [
      "[I 2020-07-24 03:09:22,316] Finished trial#36 with value: 0.6497835497835498 with parameters: {'classifier': 'SVC', 'svc_c': 23772.30338333502}. Best is trial#24 with value: 0.7540184453227932.\n",
      "[I 2020-07-24 03:09:24,683] Finished trial#37 with value: 0.7467783424305163 with parameters: {'classifier': 'RandomForest', 'n_estimators': 790, 'max_depth': 83.94146566223978}. Best is trial#24 with value: 0.7540184453227932.\n",
      "[I 2020-07-24 03:09:26,754] Finished trial#38 with value: 0.7453353409875149 with parameters: {'classifier': 'RandomForest', 'n_estimators': 550, 'max_depth': 94.64728454384392}. Best is trial#24 with value: 0.7540184453227932.\n",
      "[I 2020-07-24 03:09:29,807] Finished trial#39 with value: 0.746772068511199 with parameters: {'classifier': 'RandomForest', 'n_estimators': 1240, 'max_depth': 64.77568196179041}. Best is trial#24 with value: 0.7540184453227932.\n",
      "[I 2020-07-24 03:09:34,642] Finished trial#40 with value: 0.7511198945981553 with parameters: {'classifier': 'RandomForest', 'n_estimators': 1620, 'max_depth': 35.33397592182201}. Best is trial#24 with value: 0.7540184453227932.\n",
      "[I 2020-07-24 03:09:39,322] Finished trial#41 with value: 0.7438860656251961 with parameters: {'classifier': 'RandomForest', 'n_estimators': 1570, 'max_depth': 41.07455086396709}. Best is trial#24 with value: 0.7540184453227932.\n",
      "[I 2020-07-24 03:09:44,408] Finished trial#42 with value: 0.7496706192358366 with parameters: {'classifier': 'RandomForest', 'n_estimators': 1920, 'max_depth': 25.329246733418213}. Best is trial#24 with value: 0.7540184453227932.\n",
      "[I 2020-07-24 03:09:49,581] Finished trial#43 with value: 0.7453290670681975 with parameters: {'classifier': 'RandomForest', 'n_estimators': 1630, 'max_depth': 36.3144374045667}. Best is trial#24 with value: 0.7540184453227932.\n",
      "[I 2020-07-24 03:09:50,771] Finished trial#44 with value: 0.7482150699542004 with parameters: {'classifier': 'RandomForest', 'n_estimators': 390, 'max_depth': 49.98834554093913}. Best is trial#24 with value: 0.7540184453227932.\n",
      "[I 2020-07-24 03:09:55,970] Finished trial#45 with value: 0.7467908902691511 with parameters: {'classifier': 'RandomForest', 'n_estimators': 1900, 'max_depth': 34.96281440946909}. Best is trial#24 with value: 0.7540184453227932.\n",
      "[I 2020-07-24 03:09:58,157] Finished trial#46 with value: 0.7453290670681975 with parameters: {'classifier': 'RandomForest', 'n_estimators': 830, 'max_depth': 47.14205105099407}. Best is trial#24 with value: 0.7540184453227932.\n",
      "[I 2020-07-24 03:10:03,366] Finished trial#47 with value: 0.7540058974841584 with parameters: {'classifier': 'RandomForest', 'n_estimators': 1610, 'max_depth': 79.0475870436675}. Best is trial#24 with value: 0.7540184453227932.\n",
      "[I 2020-07-24 03:10:07,970] Finished trial#48 with value: 0.7467783424305163 with parameters: {'classifier': 'RandomForest', 'n_estimators': 1640, 'max_depth': 55.6255777871059}. Best is trial#24 with value: 0.7540184453227932.\n",
      "[I 2020-07-24 03:10:08,158] Finished trial#49 with value: 0.6497835497835498 with parameters: {'classifier': 'SVC', 'svc_c': 6.259853711585646e-06}. Best is trial#24 with value: 0.7540184453227932.\n",
      "[I 2020-07-24 03:10:14,978] Finished trial#50 with value: 0.7496706192358366 with parameters: {'classifier': 'RandomForest', 'n_estimators': 1790, 'max_depth': 62.970713577801035}. Best is trial#24 with value: 0.7540184453227932.\n",
      "[I 2020-07-24 03:10:19,509] Finished trial#51 with value: 0.7525628960411569 with parameters: {'classifier': 'RandomForest', 'n_estimators': 1530, 'max_depth': 25.59785938286606}. Best is trial#24 with value: 0.7540184453227932.\n",
      "[I 2020-07-24 03:10:23,510] Finished trial#52 with value: 0.7511136206788381 with parameters: {'classifier': 'RandomForest', 'n_estimators': 1510, 'max_depth': 26.252447645313204}. Best is trial#24 with value: 0.7540184453227932.\n",
      "[I 2020-07-24 03:10:28,002] Finished trial#53 with value: 0.7496643453165192 with parameters: {'classifier': 'RandomForest', 'n_estimators': 1560, 'max_depth': 28.34974540362377}. Best is trial#24 with value: 0.7540184453227932.\n",
      "[I 2020-07-24 03:10:32,916] Finished trial#54 with value: 0.7467783424305162 with parameters: {'classifier': 'RandomForest', 'n_estimators': 1710, 'max_depth': 23.742351461359462}. Best is trial#24 with value: 0.7540184453227932.\n",
      "[I 2020-07-24 03:10:36,972] Finished trial#55 with value: 0.7438797917058787 with parameters: {'classifier': 'RandomForest', 'n_estimators': 1500, 'max_depth': 24.99202267344787}. Best is trial#24 with value: 0.7540184453227932.\n",
      "[I 2020-07-24 03:10:40,971] Finished trial#56 with value: 0.7525628960411569 with parameters: {'classifier': 'RandomForest', 'n_estimators': 1330, 'max_depth': 23.402851952313117}. Best is trial#24 with value: 0.7540184453227932.\n",
      "[I 2020-07-24 03:10:44,866] Finished trial#57 with value: 0.7525691699604743 with parameters: {'classifier': 'RandomForest', 'n_estimators': 1340, 'max_depth': 17.73878139698246}. Best is trial#24 with value: 0.7540184453227932.\n",
      "[I 2020-07-24 03:10:48,482] Finished trial#58 with value: 0.7409937888198757 with parameters: {'classifier': 'RandomForest', 'n_estimators': 1360, 'max_depth': 18.16745091093699}. Best is trial#24 with value: 0.7540184453227932.\n",
      "[I 2020-07-24 03:10:52,702] Finished trial#59 with value: 0.7467657945918815 with parameters: {'classifier': 'RandomForest', 'n_estimators': 1340, 'max_depth': 22.212127273459014}. Best is trial#24 with value: 0.7540184453227932.\n",
      "[I 2020-07-24 03:10:56,105] Finished trial#60 with value: 0.749676893155154 with parameters: {'classifier': 'RandomForest', 'n_estimators': 1290, 'max_depth': 17.090826702413388}. Best is trial#24 with value: 0.7540184453227932.\n",
      "[I 2020-07-24 03:11:01,007] Finished trial#61 with value: 0.7438797917058787 with parameters: {'classifier': 'RandomForest', 'n_estimators': 1740, 'max_depth': 32.54432705872004}. Best is trial#24 with value: 0.7540184453227932.\n",
      "[I 2020-07-24 03:11:05,398] Finished trial#62 with value: 0.7467720685111989 with parameters: {'classifier': 'RandomForest', 'n_estimators': 1470, 'max_depth': 12.628199241448895}. Best is trial#24 with value: 0.7540184453227932.\n",
      "[I 2020-07-24 03:11:08,409] Finished trial#63 with value: 0.7496643453165192 with parameters: {'classifier': 'RandomForest', 'n_estimators': 1160, 'max_depth': 19.164803549411236}. Best is trial#24 with value: 0.7540184453227932.\n",
      "[I 2020-07-24 03:11:13,206] Finished trial#64 with value: 0.7482276177928352 with parameters: {'classifier': 'RandomForest', 'n_estimators': 1630, 'max_depth': 76.94447973674826}. Best is trial#24 with value: 0.7540184453227932.\n",
      "[I 2020-07-24 03:11:16,956] Finished trial#65 with value: 0.7496706192358366 with parameters: {'classifier': 'RandomForest', 'n_estimators': 1300, 'max_depth': 20.464356036645352}. Best is trial#24 with value: 0.7540184453227932.\n",
      "[I 2020-07-24 03:11:21,325] Finished trial#66 with value: 0.7438797917058787 with parameters: {'classifier': 'RandomForest', 'n_estimators': 1550, 'max_depth': 87.35800139774597}. Best is trial#24 with value: 0.7540184453227932.\n",
      "[I 2020-07-24 03:11:24,694] Finished trial#67 with value: 0.7482338917121526 with parameters: {'classifier': 'RandomForest', 'n_estimators': 1420, 'max_depth': 15.231640600925285}. Best is trial#24 with value: 0.7540184453227932.\n",
      "[I 2020-07-24 03:11:25,304] Finished trial#68 with value: 0.7496706192358366 with parameters: {'classifier': 'RandomForest', 'n_estimators': 210, 'max_depth': 22.08081676508804}. Best is trial#24 with value: 0.7540184453227932.\n",
      "[I 2020-07-24 03:11:30,130] Finished trial#69 with value: 0.7467720685111989 with parameters: {'classifier': 'RandomForest', 'n_estimators': 1680, 'max_depth': 30.30677056197956}. Best is trial#24 with value: 0.7540184453227932.\n",
      "[I 2020-07-24 03:11:30,306] Finished trial#70 with value: 0.6497835497835498 with parameters: {'classifier': 'SVC', 'svc_c': 11339.087796719645}. Best is trial#24 with value: 0.7540184453227932.\n",
      "[I 2020-07-24 03:11:34,345] Finished trial#71 with value: 0.7467783424305163 with parameters: {'classifier': 'RandomForest', 'n_estimators': 1550, 'max_depth': 26.75550431667519}. Best is trial#24 with value: 0.7540184453227932.\n"
     ]
    },
    {
     "name": "stderr",
     "output_type": "stream",
     "text": [
      "[I 2020-07-24 03:11:38,231] Finished trial#72 with value: 0.7482213438735178 with parameters: {'classifier': 'RandomForest', 'n_estimators': 1490, 'max_depth': 23.249452863066548}. Best is trial#24 with value: 0.7540184453227932.\n",
      "[I 2020-07-24 03:11:41,529] Finished trial#73 with value: 0.7482213438735178 with parameters: {'classifier': 'RandomForest', 'n_estimators': 1160, 'max_depth': 10.427056648434352}. Best is trial#24 with value: 0.7540184453227932.\n",
      "[I 2020-07-24 03:11:45,150] Finished trial#74 with value: 0.7482276177928352 with parameters: {'classifier': 'RandomForest', 'n_estimators': 1440, 'max_depth': 27.193462854907224}. Best is trial#24 with value: 0.7540184453227932.\n",
      "[I 2020-07-24 03:11:48,927] Finished trial#75 with value: 0.7453353409875149 with parameters: {'classifier': 'RandomForest', 'n_estimators': 1360, 'max_depth': 20.434263907375207}. Best is trial#24 with value: 0.7540184453227932.\n",
      "[I 2020-07-24 03:11:53,133] Finished trial#76 with value: 0.7453227931488801 with parameters: {'classifier': 'RandomForest', 'n_estimators': 1840, 'max_depth': 36.5300636004886}. Best is trial#24 with value: 0.7540184453227932.\n",
      "[I 2020-07-24 03:11:54,333] Finished trial#77 with value: 0.7511010728402033 with parameters: {'classifier': 'RandomForest', 'n_estimators': 470, 'max_depth': 64.65877263570503}. Best is trial#24 with value: 0.7540184453227932.\n",
      "[I 2020-07-24 03:11:59,508] Finished trial#78 with value: 0.7482276177928351 with parameters: {'classifier': 'RandomForest', 'n_estimators': 1620, 'max_depth': 25.081526703255413}. Best is trial#24 with value: 0.7540184453227932.\n",
      "[I 2020-07-24 03:12:02,333] Finished trial#79 with value: 0.748208796034883 with parameters: {'classifier': 'RandomForest', 'n_estimators': 1080, 'max_depth': 77.65947426934063}. Best is trial#24 with value: 0.7540184453227932.\n",
      "[I 2020-07-24 03:12:05,544] Finished trial#80 with value: 0.7453165192295627 with parameters: {'classifier': 'RandomForest', 'n_estimators': 1270, 'max_depth': 43.17122266533333}. Best is trial#24 with value: 0.7540184453227932.\n",
      "[I 2020-07-24 03:12:08,686] Finished trial#81 with value: 0.7525628960411569 with parameters: {'classifier': 'RandomForest', 'n_estimators': 1000, 'max_depth': 33.33720988108986}. Best is trial#24 with value: 0.7540184453227932.\n",
      "[I 2020-07-24 03:12:12,404] Finished trial#82 with value: 0.7511198945981553 with parameters: {'classifier': 'RandomForest', 'n_estimators': 1520, 'max_depth': 33.73419727498331}. Best is trial#24 with value: 0.7540184453227932.\n",
      "[I 2020-07-24 03:12:14,655] Finished trial#83 with value: 0.749676893155154 with parameters: {'classifier': 'RandomForest', 'n_estimators': 760, 'max_depth': 34.13864745964836}. Best is trial#24 with value: 0.7540184453227932.\n",
      "[I 2020-07-24 03:12:17,190] Finished trial#84 with value: 0.7496706192358366 with parameters: {'classifier': 'RandomForest', 'n_estimators': 940, 'max_depth': 29.372785622275128}. Best is trial#24 with value: 0.7540184453227932.\n",
      "[I 2020-07-24 03:12:18,831] Finished trial#85 with value: 0.7482276177928351 with parameters: {'classifier': 'RandomForest', 'n_estimators': 620, 'max_depth': 32.10495739426252}. Best is trial#24 with value: 0.7540184453227932.\n",
      "[I 2020-07-24 03:12:21,370] Finished trial#86 with value: 0.7525566221218395 with parameters: {'classifier': 'RandomForest', 'n_estimators': 970, 'max_depth': 37.24803784860489}. Best is trial#24 with value: 0.7540184453227932.\n",
      "[I 2020-07-24 03:12:25,418] Finished trial#87 with value: 0.7453353409875149 with parameters: {'classifier': 'RandomForest', 'n_estimators': 1020, 'max_depth': 37.11623456800499}. Best is trial#24 with value: 0.7540184453227932.\n",
      "[I 2020-07-24 03:12:28,292] Finished trial#88 with value: 0.7467657945918815 with parameters: {'classifier': 'RandomForest', 'n_estimators': 970, 'max_depth': 39.20279684839001}. Best is trial#24 with value: 0.7540184453227932.\n",
      "[I 2020-07-24 03:12:28,456] Finished trial#89 with value: 0.6497835497835498 with parameters: {'classifier': 'SVC', 'svc_c': 3.680799976725098e-07}. Best is trial#24 with value: 0.7540184453227932.\n",
      "[I 2020-07-24 03:12:31,952] Finished trial#90 with value: 0.7482338917121526 with parameters: {'classifier': 'RandomForest', 'n_estimators': 1120, 'max_depth': 98.33666008544772}. Best is trial#24 with value: 0.7540184453227932.\n",
      "[I 2020-07-24 03:12:34,897] Finished trial#91 with value: 0.7467657945918815 with parameters: {'classifier': 'RandomForest', 'n_estimators': 1210, 'max_depth': 33.44502121069987}. Best is trial#24 with value: 0.7540184453227932.\n",
      "[I 2020-07-24 03:12:39,482] Finished trial#92 with value: 0.7467846163498337 with parameters: {'classifier': 'RandomForest', 'n_estimators': 1600, 'max_depth': 45.82974480470283}. Best is trial#24 with value: 0.7540184453227932.\n",
      "[I 2020-07-24 03:12:43,843] Finished trial#93 with value: 0.7482276177928352 with parameters: {'classifier': 'RandomForest', 'n_estimators': 1750, 'max_depth': 38.53811944872266}. Best is trial#24 with value: 0.7540184453227932.\n",
      "[I 2020-07-24 03:12:46,390] Finished trial#94 with value: 0.7453227931488801 with parameters: {'classifier': 'RandomForest', 'n_estimators': 850, 'max_depth': 31.79825969774259}. Best is trial#24 with value: 0.7540184453227932.\n",
      "[I 2020-07-24 03:12:50,145] Finished trial#95 with value: 0.7453353409875149 with parameters: {'classifier': 'RandomForest', 'n_estimators': 1450, 'max_depth': 52.75885851358259}. Best is trial#24 with value: 0.7540184453227932.\n",
      "[I 2020-07-24 03:12:54,400] Finished trial#96 with value: 0.7482276177928351 with parameters: {'classifier': 'RandomForest', 'n_estimators': 1690, 'max_depth': 59.61058902441995}. Best is trial#24 with value: 0.7540184453227932.\n",
      "[I 2020-07-24 03:12:56,502] Finished trial#97 with value: 0.7482213438735178 with parameters: {'classifier': 'RandomForest', 'n_estimators': 590, 'max_depth': 16.62403919861139}. Best is trial#24 with value: 0.7540184453227932.\n",
      "[I 2020-07-24 03:13:00,235] Finished trial#98 with value: 0.7482213438735178 with parameters: {'classifier': 'RandomForest', 'n_estimators': 1520, 'max_depth': 28.88255246384764}. Best is trial#24 with value: 0.7540184453227932.\n",
      "[I 2020-07-24 03:13:02,969] Finished trial#99 with value: 0.7511136206788381 with parameters: {'classifier': 'RandomForest', 'n_estimators': 920, 'max_depth': 35.059537628329046}. Best is trial#24 with value: 0.7540184453227932.\n"
     ]
    },
    {
     "name": "stdout",
     "output_type": "stream",
     "text": [
      "Accuracy: 0.7540184453227932\n",
      "Best hyperparameters: {'classifier': 'RandomForest', 'n_estimators': 700, 'max_depth': 65.9299283155072}\n"
     ]
    }
   ],
   "source": [
    "study = optuna.create_study(direction='maximize')\n",
    "study.optimize(objective, n_trials=100)\n",
    "\n",
    "trial = study.best_trial\n",
    "\n",
    "print('Accuracy: {}'.format(trial.value))\n",
    "print(\"Best hyperparameters: {}\".format(trial.params))"
   ]
  },
  {
   "cell_type": "code",
   "execution_count": 45,
   "metadata": {},
   "outputs": [
    {
     "name": "stdout",
     "output_type": "stream",
     "text": [
      "FrozenTrial(number=24, value=0.7540184453227932, datetime_start=datetime.datetime(2020, 7, 24, 3, 8, 59, 840571), datetime_complete=datetime.datetime(2020, 7, 24, 3, 9, 1, 813198), params={'classifier': 'RandomForest', 'n_estimators': 700, 'max_depth': 65.9299283155072}, distributions={'classifier': CategoricalDistribution(choices=('RandomForest', 'SVC')), 'n_estimators': IntUniformDistribution(high=2000, low=200, step=10), 'max_depth': LogUniformDistribution(high=100, low=10)}, user_attrs={}, system_attrs={}, intermediate_values={}, trial_id=24, state=TrialState.COMPLETE)\n",
      "{'classifier': 'RandomForest', 'n_estimators': 700, 'max_depth': 65.9299283155072}\n"
     ]
    }
   ],
   "source": [
    "print(trial)\n",
    "print(study.best_params)"
   ]
  },
  {
   "cell_type": "code",
   "execution_count": 43,
   "metadata": {},
   "outputs": [
    {
     "name": "stdout",
     "output_type": "stream",
     "text": [
      "FrozenTrial(number=24, value=0.7540184453227932, datetime_start=datetime.datetime(2020, 7, 24, 3, 8, 59, 840571), datetime_complete=datetime.datetime(2020, 7, 24, 3, 9, 1, 813198), params={'classifier': 'RandomForest', 'n_estimators': 700, 'max_depth': 65.9299283155072}, distributions={'classifier': CategoricalDistribution(choices=('RandomForest', 'SVC')), 'n_estimators': IntUniformDistribution(high=2000, low=200, step=10), 'max_depth': LogUniformDistribution(high=100, low=10)}, user_attrs={}, system_attrs={}, intermediate_values={}, trial_id=24, state=TrialState.COMPLETE)\n",
      "{'classifier': 'RandomForest', 'n_estimators': 700, 'max_depth': 65.9299283155072}\n"
     ]
    },
    {
     "data": {
      "text/plain": [
       "RandomForestClassifier(bootstrap=True, ccp_alpha=0.0, class_weight=None,\n",
       "                       criterion='gini', max_depth=30, max_features='auto',\n",
       "                       max_leaf_nodes=None, max_samples=None,\n",
       "                       min_impurity_decrease=0.0, min_impurity_split=None,\n",
       "                       min_samples_leaf=1, min_samples_split=2,\n",
       "                       min_weight_fraction_leaf=0.0, n_estimators=330,\n",
       "                       n_jobs=None, oob_score=False, random_state=None,\n",
       "                       verbose=0, warm_start=False)"
      ]
     },
     "execution_count": 43,
     "metadata": {},
     "output_type": "execute_result"
    }
   ],
   "source": [
    "rf = RandomForestClassifier(n_estimators=330,max_depth=30)\n",
    "rf.fit(X_train,y_train)"
   ]
  },
  {
   "cell_type": "code",
   "execution_count": 44,
   "metadata": {},
   "outputs": [
    {
     "name": "stdout",
     "output_type": "stream",
     "text": [
      "[[44  7]\n",
      " [ 7 19]]\n",
      "0.8181818181818182\n",
      "              precision    recall  f1-score   support\n",
      "\n",
      "           0       0.86      0.86      0.86        51\n",
      "           1       0.73      0.73      0.73        26\n",
      "\n",
      "    accuracy                           0.82        77\n",
      "   macro avg       0.80      0.80      0.80        77\n",
      "weighted avg       0.82      0.82      0.82        77\n",
      "\n"
     ]
    }
   ],
   "source": [
    "y_pred = rf.predict(X_test)\n",
    "print(confusion_matrix(y_test, y_pred))\n",
    "print(accuracy_score(y_test, y_pred))\n",
    "print(classification_report(y_test, y_pred))"
   ]
  },
  {
   "cell_type": "code",
   "execution_count": null,
   "metadata": {},
   "outputs": [],
   "source": []
  },
  {
   "cell_type": "code",
   "execution_count": null,
   "metadata": {},
   "outputs": [],
   "source": []
  }
 ],
 "metadata": {
  "kernelspec": {
   "display_name": "Python 3",
   "language": "python",
   "name": "python3"
  },
  "language_info": {
   "codemirror_mode": {
    "name": "ipython",
    "version": 3
   },
   "file_extension": ".py",
   "mimetype": "text/x-python",
   "name": "python",
   "nbconvert_exporter": "python",
   "pygments_lexer": "ipython3",
   "version": "3.7.7"
  }
 },
 "nbformat": 4,
 "nbformat_minor": 4
}
